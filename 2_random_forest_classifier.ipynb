{
  "cells": [
    {
      "cell_type": "raw",
      "metadata": {},
      "source": [
        "---\n",
        "title: Random forest classifier\n",
        "subtitle: Series 2.2.1 - more on imbalanced dataset\n",
        "author: Jennifer HY Lin\n",
        "date: 2024-1-6\n",
        "draft: true\n",
        "categories:\n",
        "  - Machine learning projects\n",
        "  - Tree models\n",
        "  - Pandas\n",
        "  - Scikit-learn\n",
        "  - ChEMBL database\n",
        "  - Python\n",
        "format: html\n",
        "bibliography: references.bib\n",
        "---"
      ],
      "id": "8b0faaf0"
    },
    {
      "cell_type": "markdown",
      "metadata": {},
      "source": [
        "##### **Brief introduction**\n",
        "\n",
        "This post was really just an addition towards the last random forest (RF) post (machine learning (ML) series 2.2). It was mainly inspired by this paper (cite Esposito et al. on ghostml) from [rinikerlab](https://github.com/rinikerlab). It was also nice to complete the RF series by adding a RF classifier model since last post was only on a regressor. Knowing that imbalanced datasets were common in drug discovery projects, learning new strategies to deal with them was also extremely useful, and while I was working on this post, I also came across a few other packages that I haven't used before, so I've included them all down below.\n",
        "\n",
        "**Mention outcome here? - change in Cohen's kappa & AUC or improvement in confusion matrix after using ghostml, along with change in ROC curve**\n",
        "\n",
        "<br>\n",
        "\n",
        "##### **Overview on packages/scripts used**\n",
        "\n",
        "* Data source using *chembl_downloader*\n",
        "* Own little script of random_forest.py (avoid repeating code)\n",
        "* SMILES checker from *scikit_mol*\n",
        "* Dealing with imbalanced datasets in RF classifiers by using *ghostml*\n",
        "\n",
        "<br>\n",
        "\n",
        "##### **Importing libraries**\n"
      ],
      "id": "5ffdb050"
    },
    {
      "cell_type": "code",
      "metadata": {},
      "source": [
        "import pandas as pd\n",
        "import numpy as np\n",
        "import chembl_downloader\n",
        "from chembl_downloader import latest, queries, query\n",
        "import datamol as dm\n",
        "from rdkit.Chem import Descriptors\n",
        "from sklearn.ensemble import RandomForestClassifier\n",
        "from sklearn import metrics\n",
        "from sklearn.model_selection import train_test_split\n",
        "from scikit_mol.utilities import CheckSmilesSanitazion\n",
        "import ghostml"
      ],
      "id": "c1e053fe",
      "execution_count": null,
      "outputs": []
    },
    {
      "cell_type": "markdown",
      "metadata": {},
      "source": [
        "<br>\n",
        "\n",
        "##### **Data retrieval using chembl_downloader**\n",
        "\n",
        "chembl_downloader package was something I wanted to try a while back after knowing that it would thoroughly document the ChEMBL data source (I've tried manual download and chembl_webresource_client, and they were probably not the best strategies for data reproducibility). Its idea was to generate a data source that could be fully reproducible. It involved some SQL at the beginning to specify the exact type of data needed, so some SQL knowledge was required. The rest were pretty straightforward. Other uses for this package were elaborated much more nicely in its GitHub repository at https://github.com/cthoyt/chembl-downloader. Overall, I think it was very useful in a Jupyter notebook or equivalent environments to document the data used.\n",
        "\n",
        "Reference notebooks that used chembl_downloader (more provided in its repository):\n",
        "- https://github.com/cthoyt/chembl-downloader/blob/main/notebooks/drug-indications.ipynb\n",
        "- https://github.com/PatWalters/practical_cheminformatics_tutorials/blob/1f7c61f83eec81081ef2605ac70440bf1940d914/misc/working_with_ChEMBL_drug_data.ipynb#L80\n",
        "\n",
        "What I did was shown below.\n"
      ],
      "id": "596d4183"
    },
    {
      "cell_type": "code",
      "metadata": {},
      "source": [
        "# Show the latest version of ChEMBL used\n",
        "latest_version = latest()\n",
        "print(f\"The latest ChEMBL version is: {latest_version}\")"
      ],
      "id": "c24fc951",
      "execution_count": null,
      "outputs": []
    },
    {
      "cell_type": "code",
      "metadata": {},
      "source": [
        "# Query chembl_downloader to show SQL required to extract ChEMBL data for a specific protein target\n",
        "# e.g. target_chembl_id for AChE: CHEMBL220\n",
        "queries.markdown(queries.get_target_sql(target_id=\"CHEMBL220\", target_type=\"SINGLE PROTEIN\"))"
      ],
      "id": "5e14a8b4",
      "execution_count": null,
      "outputs": []
    },
    {
      "cell_type": "markdown",
      "metadata": {},
      "source": [
        "```{{python}}\n",
        "# Following data download worked (4.41GB for SQL query below, might take several min)\n",
        "\n",
        "# Added MOLECULE_DICTIONARY.max_phase into sql to show max phases for compounds targeting AChE\n",
        "\n",
        "sql = \"\"\"\n",
        "SELECT\n",
        "    ASSAYS.chembl_id              AS assay_chembl_id,\n",
        "    TARGET_DICTIONARY.target_type,\n",
        "    TARGET_DICTIONARY.tax_id,\n",
        "    TARGET_DICTIONARY.chembl_id,\n",
        "    COMPOUND_STRUCTURES.canonical_smiles,\n",
        "    MOLECULE_DICTIONARY.chembl_id AS molecule_chembl_id,\n",
        "    MOLECULE_DICTIONARY.max_phase,\n",
        "    ACTIVITIES.standard_type,\n",
        "    ACTIVITIES.pchembl_value\n",
        "FROM TARGET_DICTIONARY\n",
        "     JOIN ASSAYS ON TARGET_DICTIONARY.tid == ASSAYS.tid\n",
        "     JOIN ACTIVITIES ON ASSAYS.assay_id == ACTIVITIES.assay_id\n",
        "     JOIN MOLECULE_DICTIONARY ON MOLECULE_DICTIONARY.molregno == ACTIVITIES.molregno\n",
        "     JOIN COMPOUND_STRUCTURES ON MOLECULE_DICTIONARY.molregno == COMPOUND_STRUCTURES.molregno\n",
        "WHERE TARGET_DICTIONARY.chembl_id = 'CHEMBL220'\n",
        "    AND ACTIVITIES.pchembl_value IS NOT NULL\n",
        "    AND TARGET_DICTIONARY.target_type = 'SINGLE PROTEIN'\n",
        "\"\"\"\n",
        "\n",
        "df = chembl_downloader.query(sql)\n",
        "```\n",
        "\n",
        "```{{python}}\n",
        "df.head()\n",
        "```\n"
      ],
      "id": "6978b997"
    },
    {
      "cell_type": "code",
      "metadata": {},
      "source": [
        "# Save df as .csv file\n",
        "#df.to_csv(\"chembl_d_ache\", sep=\",\", index=False)"
      ],
      "id": "a9a15d29",
      "execution_count": null,
      "outputs": []
    },
    {
      "cell_type": "code",
      "metadata": {},
      "source": [
        "# Load dataset from saved .csv file\n",
        "df_ache = pd.read_csv(\"chembl_d_ache\")\n",
        "print(df_ache.shape)\n",
        "df_ache.head()"
      ],
      "id": "a9897801",
      "execution_count": null,
      "outputs": []
    },
    {
      "cell_type": "markdown",
      "metadata": {},
      "source": [
        "<br>\n",
        "\n",
        "##### **Some data cleaning**\n",
        "\n",
        "Minor cleaning and preprocessing were done for this post only, as the focus was more on dealing with imbalanced datasets in RF classifier.\n",
        "\n",
        "<br>\n",
        "\n",
        "###### **mol_prep.py**\n",
        "\n",
        "I've written or more like compiled my own little pieces of code into a Python script. The idea was to remove most function code in the post to avoid repeating them as they've been used frequently in the last few posts. The script would be saved into my project repository, and it would still be a \"work-in-progress\" script as I work further in the future.\n"
      ],
      "id": "f11a0aa0"
    },
    {
      "cell_type": "code",
      "metadata": {},
      "source": [
        "## Trial own mol_prep.py script\n",
        "from mol_prep import preprocess, rdkit_2d_descriptors"
      ],
      "id": "f1048ff6",
      "execution_count": null,
      "outputs": []
    },
    {
      "cell_type": "code",
      "metadata": {},
      "source": [
        "## Preprocess/standardise molecules\n",
        "# Running preprocess function \n",
        "df_ache = df_ache.copy()\n",
        "df_prep = df_ache.apply(preprocess, axis = 1)\n",
        "df_prep.head()"
      ],
      "id": "ab56dcdd",
      "execution_count": null,
      "outputs": []
    },
    {
      "cell_type": "markdown",
      "metadata": {},
      "source": [
        "<br>\n",
        "\n",
        "###### **scikit_mol**\n",
        "\n",
        "Scikit_mol was a package originated from 2022 RDKit UGM hackathon. This [blog post](https://www.cheminformania.com/scikit-mol-easy-embedding-of-rdkit-into-scikit-learn/) elaborated further on its functions and uses in machine learning. For this post I've only used it for a very small portion, mainly to check for missing SMILES or errors in SMILES (kind of like double checking whether my preprocess function code worked as expected). It could be integrated with scikit-learn's pipeline method on multiple estimators. GitHub Repository link: https://github.com/EBjerrum/scikit-mol\n"
      ],
      "id": "64b86f48"
    },
    {
      "cell_type": "code",
      "metadata": {},
      "source": [
        "# Quick simple way to check for missing SMILES\n",
        "print(f'Dataset contains {df_prep.standard_smiles.isna().sum()} unparsable mols')"
      ],
      "id": "5bb6f438",
      "execution_count": null,
      "outputs": []
    },
    {
      "cell_type": "markdown",
      "metadata": {},
      "source": [
        "It appeared to have no unparsable (missing) molecules.\n"
      ],
      "id": "a3ba01ad"
    },
    {
      "cell_type": "code",
      "metadata": {},
      "source": [
        "# Checking for invalid SMILES using scikit_mol\n",
        "smileschecker = CheckSmilesSanitazion()\n",
        "\n",
        "smileschecker.sanitize(list(df_prep.standard_smiles))\n",
        "\n",
        "# Showing SMILES errors\n",
        "smileschecker.errors"
      ],
      "id": "85dd6df5",
      "execution_count": null,
      "outputs": []
    },
    {
      "cell_type": "markdown",
      "metadata": {},
      "source": [
        "It also confirmed that there were no errors in SMILES (as a second confirmation that the preprocessed molecules had no other unusual errors after using Datamol).\n"
      ],
      "id": "dae2fdd4"
    },
    {
      "cell_type": "code",
      "metadata": {},
      "source": [
        "## Generate RDKit2D descriptors/fingerprints\n",
        "# Running rdkit_2d_descriptors function\n",
        "df_2d = rdkit_2d_descriptors(df_prep)\n",
        "df_2d"
      ],
      "id": "30373b45",
      "execution_count": null,
      "outputs": []
    },
    {
      "cell_type": "code",
      "metadata": {},
      "source": [
        "# Merge dataframes df_prep & df_2d via index\n",
        "df_merge = pd.merge(\n",
        "    df_prep[[\"max_phase\", \"molecule_chembl_id\"]],\n",
        "    df_2d,\n",
        "    left_index=True,\n",
        "    right_index=True\n",
        ")"
      ],
      "id": "dcf87eb7",
      "execution_count": null,
      "outputs": []
    },
    {
      "cell_type": "code",
      "metadata": {},
      "source": [
        "print(df_merge.shape)\n",
        "df_merge.head()"
      ],
      "id": "2dce20b6",
      "execution_count": null,
      "outputs": []
    },
    {
      "cell_type": "markdown",
      "metadata": {},
      "source": [
        "Different spreads of max phases were shown as the SQL query mainly used IC50 (whereas last post was strictly limited to Ki via ChEMBL web resource client). Other reason was that in the decision tree series, I attempted data preprocessing at a larger scale (which eliminated some data). So, it appeared that there were more max phase 4 compounds here than last time (Note: null compounds were not shown in the value counts here as it was labelled as \"NaN\", but it should be the largest portion of max phase in the data).\n"
      ],
      "id": "096c9d40"
    },
    {
      "cell_type": "code",
      "metadata": {},
      "source": [
        "# Find out counts of each max phase\n",
        "df_merge.value_counts(\"max_phase\")"
      ],
      "id": "a1cb6d0c",
      "execution_count": null,
      "outputs": []
    },
    {
      "cell_type": "markdown",
      "metadata": {},
      "source": [
        "I then tried searching for the chembl_id of the 10 max phase 4 compounds used in the last post in df_merge.\n"
      ],
      "id": "57e9b6e7"
    },
    {
      "cell_type": "code",
      "metadata": {},
      "source": [
        "# Previously used 10 max phase 4 compounds\n",
        "# donepezil = CHEMBL502 \n",
        "# galantamine = CHEMBL659\n",
        "list_mp4 = [\"CHEMBL95\", \"CHEMBL1128\", \"CHEMBL640\", \"CHEMBL502\", \"CHEMBL481\", \"CHEMBL360055\", \"CHEMBL1025\", \"CHEMBL659\", \"CHEMBL1200970\", \"CHEMBL1677\"]\n",
        "\n",
        "# Search for compounds in list_mp4 within df_merge's \"molecule_chembl_id\" column\n",
        "# using Series.isin\n",
        "df_prev = df_merge.loc[df_merge[\"molecule_chembl_id\"].isin(list_mp4)]\n",
        "df_prev"
      ],
      "id": "ef008ef7",
      "execution_count": null,
      "outputs": []
    },
    {
      "cell_type": "markdown",
      "metadata": {},
      "source": [
        "There were many duplicates of compounds.\n"
      ],
      "id": "978e0c8c"
    },
    {
      "cell_type": "code",
      "metadata": {},
      "source": [
        "# Some compounds with duplicates\n",
        "print(df_prev.shape)\n",
        "df_prev.value_counts(\"molecule_chembl_id\")"
      ],
      "id": "536354b4",
      "execution_count": null,
      "outputs": []
    },
    {
      "cell_type": "code",
      "metadata": {},
      "source": [
        "# Dropping duplicated compound via chembl IDs in the main df\n",
        "df_merge_new = df_merge.drop_duplicates(subset=[\"molecule_chembl_id\"], keep=\"first\")\n",
        "print(df_merge_new.shape)\n",
        "df_merge_new.head()"
      ],
      "id": "07cd020b",
      "execution_count": null,
      "outputs": []
    },
    {
      "cell_type": "code",
      "metadata": {},
      "source": [
        "# Previously used 10 max phase 4 compounds were found in df_merge_new\n",
        "df_mp4 = df_merge_new.loc[df_merge_new[\"molecule_chembl_id\"].isin(list_mp4)]\n",
        "df_mp4"
      ],
      "id": "5201d44b",
      "execution_count": null,
      "outputs": []
    },
    {
      "cell_type": "code",
      "metadata": {},
      "source": [
        "# note: compounds with max phase 0 not shown in the count\n",
        "df_merge_new.value_counts(\"max_phase\")"
      ],
      "id": "1f82a315",
      "execution_count": null,
      "outputs": []
    },
    {
      "cell_type": "markdown",
      "metadata": {},
      "source": [
        "<br>\n",
        "\n",
        "##### **Model building**\n",
        "\n",
        "The aim was to model and classify the max phase of ChEMBL small molecules - max phase 4 or not:\n",
        "    - *target*: max_phase\n",
        "    - *features*: various RDKit 2D descriptors (RDKit2D)\n",
        "\n",
        "1. Re-labelled max phases as binary labels (e.g. max phase null as 0, max phase 4 as 1) \n"
      ],
      "id": "d4dab1ac"
    },
    {
      "cell_type": "code",
      "metadata": {},
      "source": [
        "# Re-label max phase NaN as 0\n",
        "df_merge_new = df_merge_new.fillna(0)\n",
        "df_merge_new"
      ],
      "id": "14241ff3",
      "execution_count": null,
      "outputs": []
    },
    {
      "cell_type": "markdown",
      "metadata": {},
      "source": [
        "2. Splitting data into max phase null & max phase 4 (reason being needing to re-label max phase 4 column only as 1, and not disrupting max phase 0 compounds)\n"
      ],
      "id": "cd87dc62"
    },
    {
      "cell_type": "code",
      "metadata": {},
      "source": [
        "# Select all max phase null compounds\n",
        "df_null = df_merge_new[df_merge_new[\"max_phase\"] == 0]\n",
        "print(df_null.shape)\n",
        "df_null.head()"
      ],
      "id": "5d41af82",
      "execution_count": null,
      "outputs": []
    },
    {
      "cell_type": "code",
      "metadata": {},
      "source": [
        "# Using pd.DataFrame.assign to add a new column to re-label max_phase 4 into \"1\"\n",
        "df_mp4_lb = df_mp4.assign(max_phase_lb = df_mp4[\"max_phase\"] / 4)\n",
        "\n",
        "# Using pd.DataFrame.pop() & insert() to shift added column to first column position\n",
        "first_col = df_mp4_lb.pop(\"max_phase_lb\")\n",
        "df_mp4_lb.insert(0, \"max_phase_lb\", first_col)\n",
        "\n",
        "df_mp4_lb"
      ],
      "id": "8a62821a",
      "execution_count": null,
      "outputs": []
    },
    {
      "cell_type": "code",
      "metadata": {},
      "source": [
        "# Also create a new column max_phase_lb column for df_null to merge 2 dfs together\n",
        "\n",
        "df_null_lb = df_null.assign(max_phase_lb = df_null[\"max_phase\"])\n",
        "first_col_null = df_null_lb.pop(\"max_phase_lb\")\n",
        "df_null_lb.insert(0, \"max_phase_lb\", first_col_null)\n",
        "df_null_lb.head()"
      ],
      "id": "d9203d96",
      "execution_count": null,
      "outputs": []
    },
    {
      "cell_type": "markdown",
      "metadata": {},
      "source": [
        "The two dataframes should share same column names which could be combined together.\n"
      ],
      "id": "ebe68317"
    },
    {
      "cell_type": "code",
      "metadata": {},
      "source": [
        "# Concatenate df_mp4_lb & df_null_lb\n",
        "df_full = pd.concat([df_null_lb, df_mp4_lb])\n",
        "df_full"
      ],
      "id": "a2e2c9d7",
      "execution_count": null,
      "outputs": []
    },
    {
      "cell_type": "markdown",
      "metadata": {},
      "source": [
        "3. Define X and y variables and train RF classifier model \n",
        "\n",
        "Eventually df_full contained 10 active compounds and 5256 inactive compounds, as shown from the value counts.\n"
      ],
      "id": "f7f15267"
    },
    {
      "cell_type": "code",
      "metadata": {},
      "source": [
        "df_full.value_counts(\"max_phase_lb\")"
      ],
      "id": "075d87c4",
      "execution_count": null,
      "outputs": []
    },
    {
      "cell_type": "code",
      "metadata": {},
      "source": [
        "# Cast max_phase_lb column into integer\n",
        "df_full[\"max_phase_lb\"] = df_full[\"max_phase_lb\"].astype(int)"
      ],
      "id": "34e800d5",
      "execution_count": null,
      "outputs": []
    },
    {
      "cell_type": "code",
      "metadata": {},
      "source": [
        "df_full.head()"
      ],
      "id": "16b02e9d",
      "execution_count": null,
      "outputs": []
    },
    {
      "cell_type": "code",
      "metadata": {},
      "source": [
        "# Defining X (features) & y (target)\n",
        "X = df_full.iloc[:, 3:]\n",
        "y = df_full.iloc[:, 0]"
      ],
      "id": "3f45c5ae",
      "execution_count": null,
      "outputs": []
    },
    {
      "cell_type": "code",
      "metadata": {},
      "source": [
        "# Checking the right data have been selected\n",
        "y"
      ],
      "id": "9fbc1b1b",
      "execution_count": null,
      "outputs": []
    },
    {
      "cell_type": "code",
      "metadata": {},
      "source": [
        "# Convert both X & y to arrays\n",
        "X = X.to_numpy()\n",
        "y = y.to_numpy()"
      ],
      "id": "494a01df",
      "execution_count": null,
      "outputs": []
    },
    {
      "cell_type": "code",
      "metadata": {},
      "source": [
        "# Using train_test_split() this time to split data\n",
        "X_train, X_test, y_train, y_test = train_test_split(X, y, test_size=0.2, stratify=y, random_state=1)"
      ],
      "id": "60d61b38",
      "execution_count": null,
      "outputs": []
    },
    {
      "cell_type": "markdown",
      "metadata": {},
      "source": [
        "* Training RF classifier model\n",
        "\n",
        "Reference notebook: https://github.com/rinikerlab/GHOST/blob/main/notebooks/example_GHOST.ipynb\n"
      ],
      "id": "037d8c17"
    },
    {
      "cell_type": "code",
      "metadata": {},
      "source": [
        "# Using RandomForestClassifier() to train model\n",
        "# max_features = \"sqrt\" by default, I decided to show it explicitly in the code to make sure the right one was used\n",
        "rfc = RandomForestClassifier(max_depth=3, random_state=1, max_features=\"sqrt\", oob_score=True)\n",
        "rfc.fit(X_train, y_train)"
      ],
      "id": "a5038bff",
      "execution_count": null,
      "outputs": []
    },
    {
      "cell_type": "markdown",
      "metadata": {},
      "source": [
        "4. Obtain the prediction probabilities on the testing data and show confusion matrix with classification metrics\n"
      ],
      "id": "d12f88e9"
    },
    {
      "cell_type": "code",
      "metadata": {},
      "source": [
        "# Extract positive prediction probabilities for the testing set\n",
        "test_probs = rfc.predict_proba(X_test)[:, 1]"
      ],
      "id": "98428b8c",
      "execution_count": null,
      "outputs": []
    },
    {
      "cell_type": "markdown",
      "metadata": {},
      "source": [
        "A useful web link on area under the receiver operating characteristic curve - https://developers.google.com/machine-learning/crash-course/classification/roc-and-auc\n"
      ],
      "id": "088812b4"
    },
    {
      "cell_type": "code",
      "metadata": {},
      "source": [
        "# Rather than re-inventing the wheel, the following function code for calculating metrics of the RF model was adapted from Landrum et al., from this notebook: https://github.com/rinikerlab/GHOST/blob/main/notebooks/example_GHOST.ipynb\n",
        "\n",
        "def calc_metrics(y_test, test_probs, threshold = 0.5):\n",
        "    # Scores to differentiate between stated decision threshold (default = 0.5)\n",
        "    scores = [1 if x>=threshold else 0 for x in test_probs]\n",
        "    # Calculate area under the receiver operating characteristic curve\n",
        "    auc = metrics.roc_auc_score(y_test, test_probs)\n",
        "    # Calculate Cohen's Kappa score\n",
        "    kappa = metrics.cohen_kappa_score(y_test, scores)\n",
        "    # Formulate the confusion matrix\n",
        "    confusion = metrics.confusion_matrix(y_test, scores, labels = list(set(y_test)))\n",
        "    print('thresh: %.2f, kappa: %.3f, AUC test-set: %.3f'%(threshold, kappa, auc))\n",
        "    print(confusion)\n",
        "    print(metrics.classification_report(y_test,scores))\n",
        "    return "
      ],
      "id": "5ecf4edb",
      "execution_count": null,
      "outputs": []
    },
    {
      "cell_type": "markdown",
      "metadata": {},
      "source": [
        "Initially I made a mistake when doing the data split, which created a problem with y_test which only contained one label in it (1 only), needs binary labels (0 & 1) \n",
        "\n",
        "It was needed for roc_auc_score (measures true +ve & false +ve rates).\n"
      ],
      "id": "5722dfcb"
    },
    {
      "cell_type": "code",
      "metadata": {},
      "source": [
        "# Show confusion matrix along with AUC and Cohen's Kappa\n",
        "calc_metrics(y_test, test_probs, threshold = 0.5)\n",
        "\n",
        "# This was an extreme case - as only 10 actives vs. 5256 inactives"
      ],
      "id": "16654c03",
      "execution_count": null,
      "outputs": []
    },
    {
      "cell_type": "markdown",
      "metadata": {},
      "source": [
        "5. two approaches from GHOST paper (main idea was optimising and shifting decision threshold):\n",
        "\n",
        "    - approach 1 (out-of-bag method, aimed for RF classifiers) based on RDKit blog post (ref. 41) - http://rdkit.blogspot.com/2018/11/working-with-unbalanced-data-part-i.html ([viewable notebook version](https://nbviewer.org/github/greglandrum/rdkit_blog/blob/master/notebooks/Working%20with%20unbalanced%20data%20part%201.ipynb) via nbviewer)\n",
        "\n",
        "    - approach 2 led to Generalised threshold shifting (GHOST) procedure (could be used for any classification methods) - ghostml package\n",
        "\n",
        "I only used approach 2 here as both approaches were shown to be performing similarly in the paper, and also approach 1 was already described in a RDKit blog post.\n",
        "\n",
        "* extract the prediction probabilities from the RF classifier trained model\n"
      ],
      "id": "9f4729d4"
    },
    {
      "cell_type": "code",
      "metadata": {},
      "source": [
        "# Get the positive prediction probabilities of the training set\n",
        "train_probs = rfc.predict_proba(X_train)[:, 1]"
      ],
      "id": "cc8405dd",
      "execution_count": null,
      "outputs": []
    },
    {
      "cell_type": "markdown",
      "metadata": {},
      "source": [
        "6. Shift decision threshold using ghostml in a postprocessing way (note: last post used re-sampling method in a preprocessing way)\n",
        "\n",
        "* optimise the decision threshold using ghostml via testing various thresholds (in spaces of 0.05 with range of 0.05 to 0.5) - to search for the most optimal threshold with most maximised Cohen's kappa\n"
      ],
      "id": "4d1cc235"
    },
    {
      "cell_type": "code",
      "metadata": {},
      "source": [
        "# Setting up different decision thresholds in space of 0.05\n",
        "thresholds = np.round(np.arange(0.05,0.55,0.05),2)\n",
        "thresholds"
      ],
      "id": "cf905e65",
      "execution_count": null,
      "outputs": []
    },
    {
      "cell_type": "code",
      "metadata": {},
      "source": [
        "# Looking for the best threshold with the most optimal Cohen's Kappa\n",
        "new_threshold = ghostml.optimize_threshold_from_predictions(y_train, train_probs, thresholds, ThOpt_metrics = 'ROC') "
      ],
      "id": "2d26342e",
      "execution_count": null,
      "outputs": []
    },
    {
      "cell_type": "code",
      "metadata": {},
      "source": [
        "# Show the optimal decision threshold\n",
        "new_threshold"
      ],
      "id": "7dbb3a27",
      "execution_count": null,
      "outputs": []
    },
    {
      "cell_type": "markdown",
      "metadata": {},
      "source": [
        "* calculate confusion matrix and classification metrics based on the optimised decision threshold\n"
      ],
      "id": "faaa5eda"
    },
    {
      "cell_type": "code",
      "metadata": {},
      "source": [
        "# Using calc_metrics function again on the newly-found/shifted decision threshold\n",
        "# It showed an improved classification outcome through the confusion matrix\n",
        "calc_metrics(y_train, train_probs, threshold=new_threshold)"
      ],
      "id": "a2437598",
      "execution_count": null,
      "outputs": []
    },
    {
      "cell_type": "markdown",
      "metadata": {},
      "source": [
        "<br>\n",
        "\n",
        "##### **ROC curves**\n"
      ],
      "id": "0aac96cb"
    },
    {
      "cell_type": "code",
      "metadata": {},
      "source": [
        "import matplotlib.pyplot as plt\n",
        "\n",
        "from sklearn.metrics import RocCurveDisplay, roc_curve"
      ],
      "id": "566a203d",
      "execution_count": null,
      "outputs": []
    },
    {
      "cell_type": "markdown",
      "metadata": {},
      "source": [
        "###### **Testing set ROC curve**\n"
      ],
      "id": "a0531a45"
    },
    {
      "cell_type": "code",
      "metadata": {},
      "source": [
        "# Testing set ROC curve\n",
        "RocCurveDisplay.from_predictions(y_test, test_probs, plot_chance_level = True)"
      ],
      "id": "8f79179f",
      "execution_count": null,
      "outputs": []
    },
    {
      "cell_type": "markdown",
      "metadata": {},
      "source": [
        "<br>\n",
        "\n",
        "###### **Training set ROC curve**\n"
      ],
      "id": "21c0fc35"
    },
    {
      "cell_type": "code",
      "metadata": {},
      "source": [
        "# Training set ROC curve\n",
        "RocCurveDisplay.from_predictions(y_train, train_probs, plot_chance_level = True)"
      ],
      "id": "0541cfb3",
      "execution_count": null,
      "outputs": []
    },
    {
      "cell_type": "markdown",
      "metadata": {},
      "source": [
        "Alternative ROC curve plotting method that would reproduce a similar plot:\n"
      ],
      "id": "ae34864b"
    },
    {
      "cell_type": "code",
      "metadata": {},
      "source": [
        "# Look for true positive rate (tpr), false positive rate (fpr) & threshold\n",
        "fpr, tpr, thresh = metrics.roc_curve(y_train, train_probs)\n",
        "# Plotting\n",
        "plt.figure()\n",
        "# lw = linewidth\n",
        "plt.plot(fpr, tpr, lw = 2)\n",
        "# show random guessing line (threshold = 0.5)\n",
        "plt.plot([0, 1], [0, 1], color = \"g\", lw = 2, linestyle=\"--\")\n",
        "plt.ylim([-0.05, 1.05])\n",
        "plt.xlim([-0.05, 1.0])\n",
        "plt.xlabel(\"specificity\")\n",
        "plt.ylabel(\"recall\")\n",
        "plt.show()"
      ],
      "id": "961edd04",
      "execution_count": null,
      "outputs": []
    }
  ],
  "metadata": {
    "kernelspec": {
      "name": "python3",
      "language": "python",
      "display_name": "Python 3 (ipykernel)"
    }
  },
  "nbformat": 4,
  "nbformat_minor": 5
}